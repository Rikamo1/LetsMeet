{
 "cells": [
  {
   "cell_type": "code",
   "execution_count": 6,
   "metadata": {},
   "outputs": [
    {
     "name": "stdout",
     "output_type": "stream",
     "text": [
      "/workspace/LetsMeet/Lets_Meet_Hobbies.xml\n",
      "Datei gefunden. Laden...\n"
     ]
    }
   ],
   "source": [
    "#data from excel to databank\n",
    "import pandas as pd\n",
    "import sqlite3\n",
    "import os\n",
    "import sys\n",
    "import re\n",
    "import numpy as np\n",
    "import datetime\n",
    "import time\n",
    "import matplotlib.pyplot as plt\n",
    "import matplotlib.dates as mdates\n",
    "from matplotlib.dates import DateFormatter\n",
    "from matplotlib.ticker import MultipleLocator\n",
    "from matplotlib.ticker import FormatStrFormatter\n",
    "from matplotlib.ticker import AutoMinorLocator\n",
    "from matplotlib.ticker import MaxNLocator\n",
    "from matplotlib.ticker import AutoLocator\n",
    "from matplotlib.ticker import ScalarFormatter\n",
    "from matplotlib.ticker import FuncFormatter\n",
    "from matplotlib.ticker import FixedLocator\n",
    "from matplotlib.ticker import FixedFormatter\n",
    "from matplotlib.ticker import StrMethodFormatter\n",
    "from matplotlib.ticker import PercentFormatter\n",
    "from matplotlib.ticker import EngFormatter\n",
    "\n",
    "current_dir = os.getcwd()\n",
    "parent_dir = os.path.dirname(current_dir)\n",
    "file_path = os.path.join(parent_dir, 'Lets_Meet_Hobbies.xml')\n",
    "\n",
    "print(file_path)\n",
    "if os.path.exists(file_path):\n",
    "    print(\"Datei gefunden. Laden...\")\n",
    "    df = pd.read_xml(file_path)\n",
    "else:\n",
    "    print(\"Datei nicht gefunden:\", file_path)"
   ]
  },
  {
   "cell_type": "code",
   "execution_count": null,
   "metadata": {},
   "outputs": [],
   "source": []
  }
 ],
 "metadata": {
  "kernelspec": {
   "display_name": "Python 3",
   "language": "python",
   "name": "python3"
  },
  "language_info": {
   "codemirror_mode": {
    "name": "ipython",
    "version": 3
   },
   "file_extension": ".py",
   "mimetype": "text/x-python",
   "name": "python",
   "nbconvert_exporter": "python",
   "pygments_lexer": "ipython3",
   "version": "3.12.7"
  }
 },
 "nbformat": 4,
 "nbformat_minor": 2
}
