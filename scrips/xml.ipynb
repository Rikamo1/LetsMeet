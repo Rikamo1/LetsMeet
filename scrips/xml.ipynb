{
 "cells": [
  {
   "cell_type": "code",
   "execution_count": 7,
   "metadata": {},
   "outputs": [
    {
     "name": "stdout",
     "output_type": "stream",
     "text": [
      "XML-Datei gefunden. Einlesen...\n",
      "Fehler beim Verarbeiten der XML-Datei: no element found: line 2, column 12\n"
     ]
    }
   ],
   "source": [
    "#data from excel to databank\n",
    "import pandas as pd\n",
    "import sqlite3\n",
    "import os\n",
    "import sys\n",
    "import re\n",
    "import numpy as np\n",
    "import datetime\n",
    "import time\n",
    "import matplotlib.pyplot as plt\n",
    "import matplotlib.dates as mdates\n",
    "from matplotlib.dates import DateFormatter\n",
    "from matplotlib.ticker import MultipleLocator\n",
    "from matplotlib.ticker import FormatStrFormatter\n",
    "from matplotlib.ticker import AutoMinorLocator\n",
    "from matplotlib.ticker import MaxNLocator\n",
    "from matplotlib.ticker import AutoLocator\n",
    "from matplotlib.ticker import ScalarFormatter\n",
    "from matplotlib.ticker import FuncFormatter\n",
    "from matplotlib.ticker import FixedLocator\n",
    "from matplotlib.ticker import FixedFormatter\n",
    "from matplotlib.ticker import StrMethodFormatter\n",
    "from matplotlib.ticker import PercentFormatter\n",
    "from matplotlib.ticker import EngFormatter\n",
    "import xml.etree.ElementTree as ET\n",
    "\n",
    "current_dir = os.getcwd()\n",
    "parent_dir = os.path.dirname(current_dir)\n",
    "file_path = os.path.join(parent_dir, 'Lets_Meet_Hobbies.xml')\n",
    "    \n",
    "if os.path.exists(file_path):\n",
    "    print(\"XML-Datei gefunden. Einlesen...\")\n",
    "    try:\n",
    "        # XML in DataFrame laden (benutze //user für alle Benutzer)\n",
    "        df = pd.read_xml(file_path, xpath=\".//user\")\n",
    "\n",
    "        # Funktion, die die Hobbys extrahiert\n",
    "        def extract_hobbies(hobbies_xml):\n",
    "            if pd.isna(hobbies_xml):  # Falls keine Hobbies vorhanden sind\n",
    "                return []  # Keine Hobbys\n",
    "            hobbies = ET.fromstring(hobbies_xml).findall('hobby')\n",
    "            return [hobby.text for hobby in hobbies]  # Liste von Hobbys zurückgeben\n",
    "\n",
    "        # Anwenden der Funktion auf die Hobbies-Spalte\n",
    "        df['hobbies'] = df['hobbies'].apply(extract_hobbies)\n",
    "\n",
    "        # Dynamisch die Anzahl der Spalten basierend auf der maximalen Anzahl von Hobbys bestimmen\n",
    "        max_hobbies = df['hobbies'].apply(len).max()  # Maximale Anzahl von Hobbys\n",
    "\n",
    "        # Generiere neue Spalten für die Hobbys\n",
    "        for i in range(1, max_hobbies + 1):\n",
    "            df[f'hobby_{i}'] = df['hobbies'].apply(lambda x: x[i-1] if i <= len(x) else None)\n",
    "\n",
    "        # Entfernen der ursprünglichen Hobbies-Spalte\n",
    "        df.drop(columns=['hobbies'], inplace=True)\n",
    "\n",
    "        # Ergebnis anzeigen\n",
    "        print(f\"Anzahl Benutzer gefunden: {len(df)}\")\n",
    "        print(df.head())  # Zeige die ersten 5 Einträge\n",
    "\n",
    "        # Speichern als CSV (optional)\n",
    "        output_path = os.path.join(parent_dir, 'Lets_Meet_Hobbies_output.csv')\n",
    "        df.to_csv(output_path, index=False)\n",
    "        print(f\"Ergebnis wurde in '{output_path}' gespeichert.\")\n",
    "\n",
    "    except Exception as e:\n",
    "        print(\"Fehler beim Verarbeiten der XML-Datei:\", e)\n",
    "else:\n",
    "    print(\"XML-Datei nicht gefunden:\", file_path)"
   ]
  },
  {
   "cell_type": "code",
   "execution_count": 8,
   "metadata": {},
   "outputs": [
    {
     "name": "stdout",
     "output_type": "stream",
     "text": [
      "XML-Datei gefunden. Einlesen...\n",
      "Fehler beim Verarbeiten der XML-Datei: no element found: line 2, column 12\n"
     ]
    }
   ],
   "source": [
    "if os.path.exists(file_path):\n",
    "    print(\"XML-Datei gefunden. Einlesen...\")\n",
    "    try:\n",
    "        # XML in DataFrame laden (benutze //user für alle Benutzer)\n",
    "        df = pd.read_xml(file_path, xpath=\".//user\")\n",
    "\n",
    "        # Funktion, die die Hobbys extrahiert\n",
    "        def extract_hobbies(hobbies_xml):\n",
    "            if pd.isna(hobbies_xml):  # Falls keine Hobbies vorhanden sind\n",
    "                return []  # Keine Hobbys\n",
    "            hobbies = ET.fromstring(hobbies_xml).findall('hobby')\n",
    "            return [hobby.text for hobby in hobbies]  # Liste von Hobbys zurückgeben\n",
    "\n",
    "        # Anwenden der Funktion auf die Hobbies-Spalte\n",
    "        df['hobbies'] = df['hobbies'].apply(extract_hobbies)\n",
    "\n",
    "        # Dynamisch die Anzahl der Spalten basierend auf der maximalen Anzahl von Hobbys bestimmen\n",
    "        max_hobbies = df['hobbies'].apply(len).max()  # Maximale Anzahl von Hobbys\n",
    "\n",
    "        # Generiere neue Spalten für die Hobbys\n",
    "        for i in range(1, max_hobbies + 1):\n",
    "            df[f'hobby_{i}'] = df['hobbies'].apply(lambda x: x[i-1] if i <= len(x) else None)\n",
    "\n",
    "        # Entfernen der ursprünglichen Hobbies-Spalte\n",
    "        df.drop(columns=['hobbies'], inplace=True)\n",
    "\n",
    "        # Ergebnis anzeigen\n",
    "        print(f\"Anzahl Benutzer gefunden: {len(df)}\")\n",
    "        print(df.head())  # Zeige die ersten 5 Einträge\n",
    "\n",
    "        # Speichern als CSV (optional)\n",
    "        output_path = os.path.join(parent_dir, 'Lets_Meet_Hobbies_output.csv')\n",
    "        df.to_csv(output_path, index=False)\n",
    "        print(f\"Ergebnis wurde in '{output_path}' gespeichert.\")\n",
    "\n",
    "    except Exception as e:\n",
    "        print(\"Fehler beim Verarbeiten der XML-Datei:\", e)\n",
    "else:\n",
    "    print(\"XML-Datei nicht gefunden:\", file_path)"
   ]
  },
  {
   "cell_type": "code",
   "execution_count": null,
   "metadata": {},
   "outputs": [],
   "source": []
  },
  {
   "cell_type": "code",
   "execution_count": null,
   "metadata": {},
   "outputs": [],
   "source": []
  }
 ],
 "metadata": {
  "kernelspec": {
   "display_name": "Python 3",
   "language": "python",
   "name": "python3"
  },
  "language_info": {
   "codemirror_mode": {
    "name": "ipython",
    "version": 3
   },
   "file_extension": ".py",
   "mimetype": "text/x-python",
   "name": "python",
   "nbconvert_exporter": "python",
   "pygments_lexer": "ipython3",
   "version": "3.12.7"
  }
 },
 "nbformat": 4,
 "nbformat_minor": 2
}
